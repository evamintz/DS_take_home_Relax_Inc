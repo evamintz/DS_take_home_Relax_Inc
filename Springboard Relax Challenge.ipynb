{
 "cells": [
  {
   "cell_type": "markdown",
   "metadata": {},
   "source": [
    "# Relax Inc. Data Science take home challenge\n",
    "\n",
    "This notebook analyzes Relax Inc.'s user data and creates a model to find most important features in predicting an adopted user."
   ]
  },
  {
   "cell_type": "code",
   "execution_count": 11,
   "metadata": {},
   "outputs": [],
   "source": [
    "#General packages\n",
    "import pandas as pd\n",
    "import numpy as np\n",
    "import csv\n",
    "import matplotlib.pyplot as plt\n",
    "import seaborn as sns\n",
    "\n",
    "\n",
    "#Machine Learning\n",
    "from sklearn.model_selection import train_test_split\n",
    "from sklearn.model_selection import GridSearchCV\n",
    "from sklearn.pipeline import Pipeline\n",
    "from sklearn.preprocessing import OneHotEncoder\n",
    "from sklearn.ensemble import RandomForestClassifier\n",
    "\n",
    "#evaluation\n",
    "from sklearn.metrics import classification_report\n",
    "from sklearn.metrics import confusion_matrix\n",
    "from sklearn.metrics import accuracy_score\n",
    "\n",
    "#warnings\n",
    "import warnings\n",
    "warnings.simplefilter(action=\"ignore\", category=FutureWarning)"
   ]
  },
  {
   "cell_type": "code",
   "execution_count": 2,
   "metadata": {
    "scrolled": true
   },
   "outputs": [
    {
     "name": "stdout",
     "output_type": "stream",
     "text": [
      "<class 'pandas.core.frame.DataFrame'>\n",
      "RangeIndex: 12000 entries, 0 to 11999\n",
      "Data columns (total 10 columns):\n",
      "object_id                     12000 non-null int64\n",
      "creation_time                 12000 non-null object\n",
      "name                          12000 non-null object\n",
      "email                         12000 non-null object\n",
      "creation_source               12000 non-null object\n",
      "last_session_creation_time    8823 non-null float64\n",
      "opted_in_to_mailing_list      12000 non-null int64\n",
      "enabled_for_marketing_drip    12000 non-null int64\n",
      "org_id                        12000 non-null int64\n",
      "invited_by_user_id            6417 non-null float64\n",
      "dtypes: float64(2), int64(4), object(4)\n",
      "memory usage: 937.6+ KB\n"
     ]
    }
   ],
   "source": [
    "#import user info data into pandas dataframe\n",
    "users_df = pd.read_csv(r'C:\\Users\\Evan\\Programming\\Jupiter Projects\\Springboard Interview Challenge\\Relax_challenge\\relax_challenge\\takehome_users.csv', encoding='latin-1')\n",
    "users_df.info()"
   ]
  },
  {
   "cell_type": "markdown",
   "metadata": {},
   "source": [
    "Immediately its obvious not every user has created a session. While it is good to have new signups this means little if they don't actually use the product. The initial hook to get them in is working, but the reel needs to be improved in order to continue pulling in their interest. We're missing out on at least 3,177 users over the past 2 years. \n",
    "\n",
    "Let's see how signups that were invited compare."
   ]
  },
  {
   "cell_type": "code",
   "execution_count": 3,
   "metadata": {
    "scrolled": true
   },
   "outputs": [
    {
     "name": "stdout",
     "output_type": "stream",
     "text": [
      "<class 'pandas.core.frame.DataFrame'>\n",
      "Int64Index: 6417 entries, 0 to 11997\n",
      "Data columns (total 10 columns):\n",
      "object_id                     6417 non-null int64\n",
      "creation_time                 6417 non-null object\n",
      "name                          6417 non-null object\n",
      "email                         6417 non-null object\n",
      "creation_source               6417 non-null object\n",
      "last_session_creation_time    4776 non-null float64\n",
      "opted_in_to_mailing_list      6417 non-null int64\n",
      "enabled_for_marketing_drip    6417 non-null int64\n",
      "org_id                        6417 non-null int64\n",
      "invited_by_user_id            6417 non-null float64\n",
      "dtypes: float64(2), int64(4), object(4)\n",
      "memory usage: 551.5+ KB\n"
     ]
    }
   ],
   "source": [
    "invited = users_df[users_df.invited_by_user_id.notnull()]\n",
    "invited.info()"
   ]
  },
  {
   "cell_type": "markdown",
   "metadata": {},
   "source": [
    "So about 75% of invited users opened at least 1 session in the product. Only slightly above the overall users that signed up and opened a session (~73%). Using invites doesn't seem like a very significant improvement on keeping signups interested."
   ]
  },
  {
   "cell_type": "code",
   "execution_count": 7,
   "metadata": {},
   "outputs": [
    {
     "name": "stdout",
     "output_type": "stream",
     "text": [
      "<class 'pandas.core.frame.DataFrame'>\n",
      "DatetimeIndex: 207917 entries, 2014-04-22 03:53:30 to 2014-01-26 08:57:12\n",
      "Data columns (total 3 columns):\n",
      "time_stamp    207917 non-null datetime64[ns]\n",
      "user_id       207917 non-null int64\n",
      "visited       207917 non-null int64\n",
      "dtypes: datetime64[ns](1), int64(2)\n",
      "memory usage: 6.3 MB\n"
     ]
    }
   ],
   "source": [
    "#import user engagement info data into pandas dataframe\n",
    "engage_df = pd.read_csv(r'C:\\Users\\Evan\\Programming\\Jupiter Projects\\Springboard Interview Challenge\\Relax_challenge\\relax_challenge\\takehome_user_engagement.csv', encoding='latin-1')\n",
    "engage_df.time_stamp = pd.to_datetime(engage_df.time_stamp)\n",
    "engage_df.index=engage_df.time_stamp\n",
    "engage_df.info()"
   ]
  },
  {
   "cell_type": "code",
   "execution_count": 8,
   "metadata": {
    "scrolled": true
   },
   "outputs": [],
   "source": [
    "#look at individual users to sort out adopted users\n",
    "#defined as logging in on 3 separate days within a 7 day period\n",
    "\n",
    "users = engage_df[\"user_id\"].unique()\n",
    "adoption = []\n",
    "\n",
    "for i in users:\n",
    "    user_id = engage_df[\"user_id\"] == i\n",
    "    df = engage_df[user_id].resample(\"1D\").count()\n",
    "    df = df.rolling(window=7).sum()\n",
    "    df = df.dropna()\n",
    "    adoption.append(any(df[\"visited\"].values >= 3))"
   ]
  },
  {
   "cell_type": "code",
   "execution_count": 9,
   "metadata": {},
   "outputs": [
    {
     "data": {
      "text/plain": [
       "1597"
      ]
     },
     "execution_count": 9,
     "metadata": {},
     "output_type": "execute_result"
    }
   ],
   "source": [
    "adoption.count(True)"
   ]
  },
  {
   "cell_type": "markdown",
   "metadata": {},
   "source": [
    "Close to 1600 users that are considered adopted."
   ]
  },
  {
   "cell_type": "code",
   "execution_count": 10,
   "metadata": {
    "scrolled": true
   },
   "outputs": [],
   "source": [
    "#create and organize dataframe for analysis\n",
    "\n",
    "users_df = users_df.rename({\"object_id\":\"user_id\"}, axis=1)\n",
    "\n",
    "\n",
    "adopted = list(zip(users, adoption))\n",
    "\n",
    "df_adopt = pd.DataFrame(adopted)\n",
    "df_adopt.columns = [\"user_id\", \"adopted_user\"]\n",
    "\n",
    "df = users_df.merge(df_adopt, on=\"user_id\", how=\"left\")"
   ]
  },
  {
   "cell_type": "code",
   "execution_count": 12,
   "metadata": {},
   "outputs": [],
   "source": [
    "# changing adopted values from true/false to 0/1\n",
    "df.loc[:, \"adopted_user\"] = df[\"adopted_user\"].map({False:0, True:1, np.nan:0})\n",
    "df.dropna(subset=[\"adopted_user\"], inplace=True)\n",
    "df[\"adopted_user\"] = df[\"adopted_user\"].astype(int)"
   ]
  },
  {
   "cell_type": "code",
   "execution_count": 13,
   "metadata": {},
   "outputs": [],
   "source": [
    "# changing invited_by_user_id to 0/1 since it doesn't matter who invited them\n",
    "invite = lambda row: 0 if np.isnan(row) else 1\n",
    "df[\"invited_by_user\"] = df[\"invited_by_user_id\"].apply(invite)\n",
    "df.drop('invited_by_user_id', axis=1, inplace=True)"
   ]
  },
  {
   "cell_type": "code",
   "execution_count": 14,
   "metadata": {},
   "outputs": [],
   "source": [
    "#select columns to use - leave out irrelevant ones\n",
    "df = df[[\"adopted_user\", \"invited_by_user\", \"creation_source\", \\\n",
    "         \"opted_in_to_mailing_list\", \"enabled_for_marketing_drip\"]]"
   ]
  },
  {
   "cell_type": "code",
   "execution_count": 15,
   "metadata": {},
   "outputs": [
    {
     "data": {
      "text/html": [
       "<div>\n",
       "<style scoped>\n",
       "    .dataframe tbody tr th:only-of-type {\n",
       "        vertical-align: middle;\n",
       "    }\n",
       "\n",
       "    .dataframe tbody tr th {\n",
       "        vertical-align: top;\n",
       "    }\n",
       "\n",
       "    .dataframe thead th {\n",
       "        text-align: right;\n",
       "    }\n",
       "</style>\n",
       "<table border=\"1\" class=\"dataframe\">\n",
       "  <thead>\n",
       "    <tr style=\"text-align: right;\">\n",
       "      <th></th>\n",
       "      <th>adopted_user</th>\n",
       "      <th>invited_by_user</th>\n",
       "      <th>creation_source</th>\n",
       "      <th>opted_in_to_mailing_list</th>\n",
       "      <th>enabled_for_marketing_drip</th>\n",
       "    </tr>\n",
       "  </thead>\n",
       "  <tbody>\n",
       "    <tr>\n",
       "      <td>0</td>\n",
       "      <td>0</td>\n",
       "      <td>1</td>\n",
       "      <td>GUEST_INVITE</td>\n",
       "      <td>1</td>\n",
       "      <td>0</td>\n",
       "    </tr>\n",
       "    <tr>\n",
       "      <td>1</td>\n",
       "      <td>1</td>\n",
       "      <td>1</td>\n",
       "      <td>ORG_INVITE</td>\n",
       "      <td>0</td>\n",
       "      <td>0</td>\n",
       "    </tr>\n",
       "    <tr>\n",
       "      <td>2</td>\n",
       "      <td>0</td>\n",
       "      <td>1</td>\n",
       "      <td>ORG_INVITE</td>\n",
       "      <td>0</td>\n",
       "      <td>0</td>\n",
       "    </tr>\n",
       "    <tr>\n",
       "      <td>3</td>\n",
       "      <td>0</td>\n",
       "      <td>1</td>\n",
       "      <td>GUEST_INVITE</td>\n",
       "      <td>0</td>\n",
       "      <td>0</td>\n",
       "    </tr>\n",
       "    <tr>\n",
       "      <td>4</td>\n",
       "      <td>0</td>\n",
       "      <td>1</td>\n",
       "      <td>GUEST_INVITE</td>\n",
       "      <td>0</td>\n",
       "      <td>0</td>\n",
       "    </tr>\n",
       "  </tbody>\n",
       "</table>\n",
       "</div>"
      ],
      "text/plain": [
       "   adopted_user  invited_by_user creation_source  opted_in_to_mailing_list  \\\n",
       "0             0                1    GUEST_INVITE                         1   \n",
       "1             1                1      ORG_INVITE                         0   \n",
       "2             0                1      ORG_INVITE                         0   \n",
       "3             0                1    GUEST_INVITE                         0   \n",
       "4             0                1    GUEST_INVITE                         0   \n",
       "\n",
       "   enabled_for_marketing_drip  \n",
       "0                           0  \n",
       "1                           0  \n",
       "2                           0  \n",
       "3                           0  \n",
       "4                           0  "
      ]
     },
     "execution_count": 15,
     "metadata": {},
     "output_type": "execute_result"
    }
   ],
   "source": [
    "df.head()"
   ]
  },
  {
   "cell_type": "markdown",
   "metadata": {},
   "source": [
    "## Machine Learning\n",
    "\n",
    "Create a model to find most important factors in gaining an adopted user."
   ]
  },
  {
   "cell_type": "code",
   "execution_count": 16,
   "metadata": {},
   "outputs": [
    {
     "name": "stdout",
     "output_type": "stream",
     "text": [
      "Best parameters: {'rf__max_depth': 3, 'rf__n_estimators': 25}\n",
      "Accuracy score from tuned model: 86.7%\n"
     ]
    }
   ],
   "source": [
    "#define X (independant vars (features)) and y (dependant var(adopted)) and split for train and test data\n",
    "\n",
    "X = df[df.columns[1:]]\n",
    "y = df[df.columns[0]]\n",
    "\n",
    "X_train, X_test, y_train, y_test = train_test_split(X, y, stratify = y, test_size = 0.6, random_state = 602)\n",
    "\n",
    "pipeline = Pipeline(steps=[(\"encoder\", OneHotEncoder()), (\"rf\", RandomForestClassifier(random_state = 602))])\n",
    "\n",
    "params = {\"rf__n_estimators\" : [25, 50, 75, 100],\n",
    "          \"rf__max_depth\" : [3, 5, 10, 15]}\n",
    "\n",
    "cv = GridSearchCV(pipeline, param_grid=params, cv=3)\n",
    "cv.fit(X_train, y_train)\n",
    "\n",
    "print(f\"Best parameters: {cv.best_params_}\")\n",
    "print(f\"Accuracy score from tuned model: {cv.best_score_*100:.1f}%\")"
   ]
  },
  {
   "cell_type": "code",
   "execution_count": 17,
   "metadata": {},
   "outputs": [
    {
     "name": "stdout",
     "output_type": "stream",
     "text": [
      "Accuracy: 86.69%\n"
     ]
    }
   ],
   "source": [
    "# test data\n",
    "y_pred = cv.predict(X_test)\n",
    "test_accuracy = accuracy_score(y_test, y_pred)\n",
    "print(f\"Accuracy: {test_accuracy*100:.2f}%\")"
   ]
  },
  {
   "cell_type": "code",
   "execution_count": 64,
   "metadata": {},
   "outputs": [
    {
     "name": "stdout",
     "output_type": "stream",
     "text": [
      "               precision    recall  f1-score   support\n",
      "\n",
      "        Users       0.87      1.00      0.93      6242\n",
      "Adopted_Users       0.00      0.00      0.00       958\n",
      "\n",
      "     accuracy                           0.87      7200\n",
      "    macro avg       0.43      0.50      0.46      7200\n",
      " weighted avg       0.75      0.87      0.81      7200\n",
      "\n"
     ]
    }
   ],
   "source": [
    "target_names = ['Users', 'Adopted_Users']\n",
    "print(classification_report(y_test, y_pred, target_names=target_names))"
   ]
  },
  {
   "cell_type": "code",
   "execution_count": 18,
   "metadata": {},
   "outputs": [
    {
     "name": "stdout",
     "output_type": "stream",
     "text": [
      "Weight: 0.129 | Feature: creation_source_ORG_INVITE\n",
      "Weight: 0.065 | Feature: creation_source_PERSONAL_PROJECTS\n",
      "Weight: 0.056 | Feature: enabled_for_marketing_drip\n",
      "Weight: 0.053 | Feature: creation_source_SIGNUP_GOOGLE_AUTH\n",
      "Weight: 0.041 | Feature: creation_source_GUEST_INVITE\n",
      "Weight: 0.028 | Feature: invited_by_user\n",
      "Weight: 0.024 | Feature: opted_in_to_mailing_list\n",
      "Weight: 0.006 | Feature: creation_source_SIGNUP\n"
     ]
    }
   ],
   "source": [
    "# feature importance\n",
    "\n",
    "X_ = pd.get_dummies(X_test)\n",
    "pipeline.fit(X_, y_test)\n",
    "\n",
    "feat = pipeline.named_steps[\"rf\"].feature_importances_\n",
    "\n",
    "feature_importance = zip(X_.columns, feat)\n",
    "feature_importance = sorted(feature_importance, key=lambda x:x[1], reverse=True)\n",
    "\n",
    "for i, j in feature_importance:\n",
    "    print(f\"Weight: {j:.3f} | Feature: {i}\")"
   ]
  },
  {
   "cell_type": "markdown",
   "metadata": {},
   "source": [
    "## Feature Importance\n",
    "\n",
    "Based off of this model the most predictive feature is the creation source of the account. Out of the five possibilities an invite to an organization as a full member was the most likely to produce an adopted user. Next, was if the user was invited to join another user's personal workspace. This is not entirely surprising as it means the users had a specific reason to continue logging in, versus someone who may be just creating an unsolicited account and deciding they aren't interested in continued use. It would be a good idea for the company to increase marketing to organizations as opposed to individuals and emphasis project collaboration.\n",
    "\n",
    "The feature with the third highest weight is if the user is on the marketing drip email list. This may simply be because continued users want to keep up with current news or updates - but it may also be a good idea to increase email marketing to new users. \n",
    "\n",
    "While signing up with a google account is the fourth highest weight it is not necessarily a useful metric - it could be argued however, that increasing ads for google users (everyone?) may result in an increase of adopted users.\n",
    "\n",
    "The lowest importance is from signing up on the website itself. This is probably from the population that doesn't have any real initial reason to create an account and once made, it doesn't hold their interest. While you could look at this as the website not having a real impact, I think it would be a good idea to possibly rework the website to better sell the program's best uses and features."
   ]
  }
 ],
 "metadata": {
  "kernelspec": {
   "display_name": "Python 3",
   "language": "python",
   "name": "python3"
  },
  "language_info": {
   "codemirror_mode": {
    "name": "ipython",
    "version": 3
   },
   "file_extension": ".py",
   "mimetype": "text/x-python",
   "name": "python",
   "nbconvert_exporter": "python",
   "pygments_lexer": "ipython3",
   "version": "3.7.4"
  }
 },
 "nbformat": 4,
 "nbformat_minor": 2
}
